{
 "cells": [
  {
   "cell_type": "markdown",
   "source": [
    "This is a Markdown cell"
   ],
   "metadata": {
    "collapsed": false
   }
  },
  {
   "cell_type": "code",
   "execution_count": null,
   "outputs": [],
   "source": [
    "import numpy as np\n",
    "import pyshtools\n",
    "import shtaper\n",
    "import copy"
   ],
   "metadata": {
    "collapsed": false,
    "pycharm": {
     "name": "#%% imports\n"
    }
   }
  },
  {
   "cell_type": "code",
   "execution_count": null,
   "outputs": [],
   "source": [
    "# to do"
   ],
   "metadata": {
    "collapsed": false,
    "pycharm": {
     "name": "#%% data input\n"
    }
   }
  },
  {
   "cell_type": "code",
   "execution_count": null,
   "outputs": [],
   "source": [
    "grid_step = 0.25\n",
    "SH_lmax_grid = int(90/grid_step - 1)  # max degree to get a grid_step spaced grid\n",
    "obs_height = 10e3  # m\n",
    "obs_a = pyshtools.constant.a_wgs84.value + obs_height"
   ],
   "metadata": {
    "collapsed": false,
    "pycharm": {
     "name": "#%% set maximum degree computed in SH coefficient to grid synthesis\n"
    }
   }
  },
  {
   "cell_type": "code",
   "execution_count": null,
   "outputs": [],
   "source": [
    "GGM_cilm, GGM_gm, GGM_r0 = \\\n",
    "    pyshtools.shio.read_icgem_gfc('XGM2019.gfc', lmax=SH_lmax_grid)\n",
    "GTM_cilm, GTM_gm, GTM_r0 = \\\n",
    "    pyshtools.shio.read_icgem_gfc('dV_ELL_Earth2014.gfc', lmax=SH_lmax_grid)"
   ],
   "metadata": {
    "collapsed": false,
    "pycharm": {
     "name": "#%% read gfc of GGM and TC model\n"
    }
   }
  },
  {
   "cell_type": "code",
   "execution_count": null,
   "outputs": [],
   "source": [
    "GGM_coeffs = pyshtools.SHGravCoeffs.from_array(\n",
    "    GGM_cilm, GGM_gm, GGM_r0,\n",
    "    omega=pyshtools.constant.omega_wgs84.value,\n",
    "    lmax=SH_lmax_grid)\n",
    "GTM_coeffs = pyshtools.SHGravCoeffs.from_array(\n",
    "    GTM_cilm, GTM_gm, GTM_r0,\n",
    "    omega=0,\n",
    "    lmax=SH_lmax_grid)"
   ],
   "metadata": {
    "collapsed": false,
    "pycharm": {
     "name": "#%% apply gentle-cut low pass of E2014 to sat-resolution grid\n"
    }
   }
  },
  {
   "cell_type": "code",
   "execution_count": null,
   "outputs": [],
   "source": [
    "if not(GGM_r0 == GTM_r0):\n",
    "    raise AssertionError(\"gravity model and terrain effect model should share the same r0\")\n",
    "if not(GGM_gm == GTM_gm):\n",
    "    raise AssertionError(\"gravity model and terrain effect model should share the same gm\")"
   ],
   "metadata": {
    "collapsed": false,
    "pycharm": {
     "name": "#%% limitation of the current reduction method: assert same gm, r0\n"
    }
   }
  },
  {
   "cell_type": "code",
   "execution_count": null,
   "outputs": [],
   "source": [
    "LP_weights = \\\n",
    "    shtaper.taper_weights(l_start=300, l_stop=SH_lmax_grid, taper=\"gentle\")\n",
    "\n",
    "GGM_coeffs_LP = copy.deepcopy(GGM_coeffs)\n",
    "GGM_coeffs_LP.coeffs = np.multiply(GGM_coeffs_LP.coeffs, LP_weights)\n",
    "\n",
    "GTM_coeffs_LP = copy.deepcopy(GTM_coeffs)\n",
    "GTM_coeffs_LP.coeffs = np.multiply(GTM_coeffs_LP.coeffs, LP_weights)"
   ],
   "metadata": {
    "collapsed": false,
    "pycharm": {
     "name": "#%% apply gentle-cut low pass to requested resolution\n"
    }
   }
  },
  {
   "cell_type": "code",
   "execution_count": null,
   "outputs": [],
   "source": [
    "GOCO06s_grid = pyshtools.SHGravCoeffs.expand(\n",
    "    GGM_coeffs_LP,\n",
    "    a=obs_a, f=pyshtools.constant.f_wgs84.value,\n",
    "    extend=False, lmax=SH_lmax_grid, normal_gravity=True)\n",
    "GOCO06s_grid_gd = pyshtools.SHGrid.from_array(GOCO06s_grid.total.data*1e5)\n",
    "E2014_grid = pyshtools.SHGravCoeffs.expand(\n",
    "    GTM_coeffs_LP,\n",
    "    a=obs_a, f=pyshtools.constant.f_wgs84.value,\n",
    "    extend=False, lmax=SH_lmax_grid, normal_gravity=False)\n",
    "E2014_grid_rad = pyshtools.SHGrid.from_array(E2014_grid.rad.data * -1e5)  # to mGal and positive downwards\n",
    "\n",
    "# %% apply terrain correction\n",
    "# perform difference of potential (adimensional) grid, then expand to SH coefficients, then to gravity grids\n",
    "# normal gravity is removed after applying the reduction\n",
    "# (potential issue: what if gm and r0 are different between GGM and terrain effect model?)\n",
    "\n",
    "GGM_PotGrid_adim = (pyshtools.SHCoeffs.from_array(GGM_cilm)).expand()\n",
    "GTM_PotGrid_adim_low = (pyshtools.SHCoeffs.from_array(GTM_cilm)).expand()\n",
    "Vbg_Coeffs = (\n",
    "    pyshtools.SHGrid.from_array(\n",
    "        GGM_PotGrid_adim.data - GTM_PotGrid_adim_low.data\n",
    "    )).expand()\n",
    "Vbg_GravCoeffs = pyshtools.SHGravCoeffs.from_array(Vbg_Coeffs.coeffs,\n",
    "                                                   gm=GGM_gm, r0=GGM_r0,\n",
    "                                                   omega=pyshtools.constant.omega_wgs84.value)\n",
    "Vbg_GravGrid = Vbg_GravCoeffs.expand(normal_gravity=True,\n",
    "                                     a=obs_a, f=pyshtools.constant.f_wgs84.value)\n",
    "Vbg_GravGrid_total = pyshtools.SHGrid.from_array(Vbg_GravGrid.total.data * 1e5)"
   ],
   "metadata": {
    "collapsed": false,
    "pycharm": {
     "name": "#%% plot maps using cartopy\n"
    }
   }
  }
 ],
 "metadata": {
  "kernelspec": {
   "display_name": "Python 3",
   "language": "python",
   "name": "python3"
  },
  "language_info": {
   "codemirror_mode": {
    "name": "ipython",
    "version": 2
   },
   "file_extension": ".py",
   "mimetype": "text/x-python",
   "name": "python",
   "nbconvert_exporter": "python",
   "pygments_lexer": "ipython2",
   "version": "2.7.6"
  }
 },
 "nbformat": 4,
 "nbformat_minor": 0
}